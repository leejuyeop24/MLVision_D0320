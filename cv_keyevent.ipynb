{
 "cells": [
  {
   "cell_type": "markdown",
   "metadata": {},
   "source": [
    "#### [ EVENT 처리 - KEYEVENT]  \n",
    "- EVENT : 사용자들의 마우스나 키보드로 발생하는 동작들\n",
    "- 예: 마우스 => 클릭, 드래그, 마우스 누르기 & 뗵, 더블클릭  \n",
    "- 예: 키보드 => 입력한 키 값들 알파벳, 숫자, 기호들...  \n",
    "- EVENT 처리  \n",
    "\t* 이벤트 발생 시 진행하고 동작 코드 작성하는 것\n",
    "\t* 개발자가 원하는 기능으로 정의"
   ]
  },
  {
   "cell_type": "code",
   "execution_count": 1,
   "metadata": {},
   "outputs": [],
   "source": [
    "## [1-1] 모듈 로딩\n",
    "import cv2\t\t\t\t\t\t\t# 컴퓨터버전 모듈\n",
    "import numpy as np\t\t\t\t\t# 이미지 데이터 저장 모듈\n",
    "import matplotlib.pyplot as plt\t\t# 시각화 모듈\n",
    "import os\t\t\t\t\t\t\t# 파일, 폴더, 경로 관련 모듈"
   ]
  },
  {
   "cell_type": "markdown",
   "metadata": {},
   "source": []
  },
  {
   "cell_type": "code",
   "execution_count": null,
   "metadata": {},
   "outputs": [],
   "source": [
    "## [1-2] 데이터 준비\n",
    "IMG_DIR = '../data/image/'\n",
    "FILENAME = 'orange.png'"
   ]
  },
  {
   "cell_type": "code",
   "execution_count": null,
   "metadata": {},
   "outputs": [
    {
     "name": "stdout",
     "output_type": "stream",
     "text": [
      "../data/image/apple.png\n",
      "True\n",
      "../data/image/apple_gray.png\n",
      "True\n",
      "../data/image/orange.png\n",
      "True\n",
      "../data/image/orange_gray.png\n",
      "True\n",
      "../data/image/strawberry.png\n",
      "True\n",
      "../data/image/스크린샷 2025-03-18 114847.png\n",
      "True\n",
      "이미지파일리스트 : 6개\n",
      "['../data/image/apple.png', '../data/image/apple_gray.png', '../data/image/orange.png', '../data/image/orange_gray.png', '../data/image/strawberry.png', '../data/image/스크린샷 2025-03-18 114847.png']\n"
     ]
    }
   ],
   "source": [
    "## 현재 모든 이미지 파일 리스트\n",
    "allitems = os.listdir(IMG_DIR)\n",
    "filelist = []\n",
    "for item in allitems:\n",
    "\t# 파일과 폴더 체크 후 파일만 추출\n",
    "\tprint( IMG_DIR+item )\n",
    "\tprint( os.path.isfile(IMG_DIR+item) )\n",
    "\tif os.path.isfile(IMG_DIR+item):\n",
    "\t\tfilelist.append(IMG_DIR+item)\n",
    "\n",
    "print(f'이미지파일리스트 : {len(filelist)}개\\n{filelist}')"
   ]
  },
  {
   "cell_type": "markdown",
   "metadata": {},
   "source": [
    "[2] 이미지 로딩 <hr>"
   ]
  },
  {
   "cell_type": "code",
   "execution_count": null,
   "metadata": {},
   "outputs": [
    {
     "data": {
      "text/plain": [
       "array([[[255, 255, 255],\n",
       "        [255, 255, 255],\n",
       "        [255, 255, 255],\n",
       "        ...,\n",
       "        [255, 255, 255],\n",
       "        [255, 255, 255],\n",
       "        [255, 255, 255]],\n",
       "\n",
       "       [[255, 255, 255],\n",
       "        [255, 255, 255],\n",
       "        [255, 255, 255],\n",
       "        ...,\n",
       "        [255, 255, 255],\n",
       "        [255, 255, 255],\n",
       "        [255, 255, 255]],\n",
       "\n",
       "       [[255, 255, 255],\n",
       "        [255, 255, 255],\n",
       "        [255, 255, 255],\n",
       "        ...,\n",
       "        [255, 255, 255],\n",
       "        [255, 255, 255],\n",
       "        [255, 255, 255]],\n",
       "\n",
       "       ...,\n",
       "\n",
       "       [[255, 255, 255],\n",
       "        [255, 255, 255],\n",
       "        [255, 255, 255],\n",
       "        ...,\n",
       "        [255, 255, 255],\n",
       "        [255, 255, 255],\n",
       "        [255, 255, 255]],\n",
       "\n",
       "       [[255, 255, 255],\n",
       "        [255, 255, 255],\n",
       "        [255, 255, 255],\n",
       "        ...,\n",
       "        [255, 255, 255],\n",
       "        [255, 255, 255],\n",
       "        [255, 255, 255]],\n",
       "\n",
       "       [[255, 255, 255],\n",
       "        [255, 255, 255],\n",
       "        [255, 255, 255],\n",
       "        ...,\n",
       "        [255, 255, 255],\n",
       "        [255, 255, 255],\n",
       "        [255, 255, 255]]], dtype=uint8)"
      ]
     },
     "execution_count": 4,
     "metadata": {},
     "output_type": "execute_result"
    }
   ],
   "source": [
    "## 로딩 : 경로+파일명\n",
    "colorIMG=cv2.imread(IMG_DIR+FILENAME, cv2.IMREAD_COLOR)\n",
    "colorIMG"
   ]
  },
  {
   "cell_type": "code",
   "execution_count": null,
   "metadata": {},
   "outputs": [
    {
     "name": "stdout",
     "output_type": "stream",
     "text": [
      "orange.png\n",
      "형태:(393, 732, 3)\t차원:3D\n"
     ]
    }
   ],
   "source": [
    "## 정보확인\n",
    "if colorIMG is None:\n",
    "\tprint(f\"{colorIMG}: 이미지 체크\")\n",
    "else:\n",
    "\tprint(f'{FILENAME}')\n",
    "\tprint(f'형태:{colorIMG.shape}\t차원:{colorIMG.ndim}D')\n",
    "\n",
    "## 이미지 형태 : (행, 열, 채널)"
   ]
  },
  {
   "cell_type": "markdown",
   "metadata": {},
   "source": [
    "[3] 이미지 출력 및 이벤크 체크 <hr>"
   ]
  },
  {
   "cell_type": "code",
   "execution_count": null,
   "metadata": {},
   "outputs": [
    {
     "name": "stdout",
     "output_type": "stream",
     "text": [
      "key => 115 - s\n",
      "저장 여부 : 저장\n",
      "key => 100 - d\n",
      "key => 101 - e\n",
      "key => 102 - f\n",
      "key => 119 - w\n",
      "key => 102 - f\n",
      "key => 101 - e\n",
      "key => 100 - d\n",
      "key => 115 - s\n",
      "저장 여부 : 저장\n",
      "key => 102 - f\n",
      "key => 115 - s\n",
      "저장 여부 : 저장\n",
      "key => 100 - d\n",
      "key => 102 - f\n",
      "key => 100 - d\n",
      "key => 102 - f\n",
      "key => 119 - w\n",
      "key => 101 - e\n",
      "key => 101 - e\n",
      "key => 27 - \u001b\n",
      "key => 27 - \u001b\n",
      "key => 27 - \u001b\n"
     ]
    },
    {
     "ename": "ValueError",
     "evalue": "chr() arg not in range(0x110000)",
     "output_type": "error",
     "traceback": [
      "\u001b[1;31m---------------------------------------------------------------------------\u001b[0m",
      "\u001b[1;31mValueError\u001b[0m                                Traceback (most recent call last)",
      "Cell \u001b[1;32mIn[6], line 7\u001b[0m\n\u001b[0;32m      4\u001b[0m \u001b[38;5;28;01mwhile\u001b[39;00m \u001b[38;5;28;01mTrue\u001b[39;00m:\n\u001b[0;32m      5\u001b[0m \t\u001b[38;5;66;03m# 창에 대한 사용자 이벤트 처리\u001b[39;00m\n\u001b[0;32m      6\u001b[0m \tkey\u001b[38;5;241m=\u001b[39mcv2\u001b[38;5;241m.\u001b[39mwaitKey()\n\u001b[1;32m----> 7\u001b[0m \t\u001b[38;5;28mprint\u001b[39m(\u001b[38;5;124mf\u001b[39m\u001b[38;5;124m'\u001b[39m\u001b[38;5;124mkey => \u001b[39m\u001b[38;5;132;01m{\u001b[39;00mkey\u001b[38;5;132;01m}\u001b[39;00m\u001b[38;5;124m - \u001b[39m\u001b[38;5;132;01m{\u001b[39;00m\u001b[38;5;28mchr\u001b[39m(key)\u001b[38;5;132;01m}\u001b[39;00m\u001b[38;5;124m'\u001b[39m)\n\u001b[0;32m      9\u001b[0m \t\u001b[38;5;66;03m# 특정 키이벤트에 따른 처리 코드\u001b[39;00m\n\u001b[0;32m     10\u001b[0m \t\u001b[38;5;28;01mif\u001b[39;00m key \u001b[38;5;129;01min\u001b[39;00m [\u001b[38;5;28mord\u001b[39m(\u001b[38;5;124m'\u001b[39m\u001b[38;5;124mq\u001b[39m\u001b[38;5;124m'\u001b[39m), \u001b[38;5;28mord\u001b[39m(\u001b[38;5;124m'\u001b[39m\u001b[38;5;124mQ\u001b[39m\u001b[38;5;124m'\u001b[39m)]:\n",
      "\u001b[1;31mValueError\u001b[0m: chr() arg not in range(0x110000)"
     ]
    }
   ],
   "source": [
    "# 창 타이틀, 이미지 데이터\n",
    "cv2.imshow(FILENAME, colorIMG)\n",
    "\n",
    "while True:\n",
    "\t# 창에 대한 사용자 이벤트 처리\n",
    "\tkey=cv2.waitKey()\n",
    "\tprint(f'key => {key} - {chr(key)}')\n",
    "\n",
    "\t# 특정 키이벤트에 따른 처리 코드\n",
    "\tif key in [ord('q'), ord('Q')]:\n",
    "\t\t# 창 닫고 종료\n",
    "\t\tcv2.destroyAllWindows()\n",
    "\t\tbreak\n",
    "\telif key in [ord('s'), ord('S')]:\n",
    "\t\t# 이미지 저장하기\n",
    "\t\tret = cv2.imwrite(IMG_DIR+'copy_'+FILENAME, colorIMG)\n",
    "\t\tprint(f'저장 여부 : {\"저장\" if ret else \"실패\"}')"
   ]
  },
  {
   "cell_type": "code",
   "execution_count": null,
   "metadata": {},
   "outputs": [],
   "source": []
  }
 ],
 "metadata": {
  "kernelspec": {
   "display_name": "Python 3",
   "language": "python",
   "name": "python3"
  },
  "language_info": {
   "codemirror_mode": {
    "name": "ipython",
    "version": 3
   },
   "file_extension": ".py",
   "mimetype": "text/x-python",
   "name": "python",
   "nbconvert_exporter": "python",
   "pygments_lexer": "ipython3",
   "version": "3.9.21"
  }
 },
 "nbformat": 4,
 "nbformat_minor": 2
}
