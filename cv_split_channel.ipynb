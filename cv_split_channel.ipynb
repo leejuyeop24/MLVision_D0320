{
 "cells": [
  {
   "cell_type": "markdown",
   "metadata": {},
   "source": [
    "#### [ 이미지 채널 분리 ]\n",
    "- opencv는 이미지 데이터 저장 순서가 BGR  \n",
    "- 채널 분리 후 채널별 출력"
   ]
  },
  {
   "cell_type": "markdown",
   "metadata": {},
   "source": [
    "[1] 모듈 로딩 및 데이터 준비 <hr>"
   ]
  },
  {
   "cell_type": "code",
   "execution_count": 2,
   "metadata": {},
   "outputs": [],
   "source": [
    "## [1-1] 모듈 로딩\n",
    "import cv2\t\t\t\t\t\t\t# 컴퓨터버전 모듈\n",
    "import numpy as np\t\t\t\t\t# 이미지 데이터 저장 모듈\n",
    "import matplotlib.pyplot as plt\t\t# 시각화 모듈\n",
    "import os\t\t\t\t\t\t\t# 파일, 폴더, 경로 관련 모듈"
   ]
  },
  {
   "cell_type": "code",
   "execution_count": 3,
   "metadata": {},
   "outputs": [],
   "source": [
    "## [1-2] 데이터 준비\n",
    "IMG_DIR = '../data/image/'\n",
    "FILENAME = 'orange.png'"
   ]
  },
  {
   "cell_type": "code",
   "execution_count": 4,
   "metadata": {},
   "outputs": [
    {
     "name": "stdout",
     "output_type": "stream",
     "text": [
      "../data/image/apple.png\n",
      "True\n",
      "../data/image/copy_orange.png\n",
      "True\n",
      "../data/image/cropped.jpg\n",
      "True\n",
      "../data/image/cropped2.jpg\n",
      "True\n",
      "../data/image/DS\n",
      "False\n",
      "../data/image/fish.jpg\n",
      "True\n",
      "../data/image/girl.jpg\n",
      "True\n",
      "../data/image/opencv_logo.png\n",
      "True\n",
      "../data/image/orange.png\n",
      "True\n",
      "../data/image/resize_apple.png\n",
      "True\n",
      "../data/image/strawberry.png\n",
      "True\n",
      "../data/image/sunset.jpg\n",
      "True\n",
      "../data/image/스크린샷 2025-03-18 114847.png\n",
      "True\n",
      "이미지파일리스트 : 12개\n",
      "['../data/image/apple.png', '../data/image/copy_orange.png', '../data/image/cropped.jpg', '../data/image/cropped2.jpg', '../data/image/fish.jpg', '../data/image/girl.jpg', '../data/image/opencv_logo.png', '../data/image/orange.png', '../data/image/resize_apple.png', '../data/image/strawberry.png', '../data/image/sunset.jpg', '../data/image/스크린샷 2025-03-18 114847.png']\n"
     ]
    }
   ],
   "source": [
    "## 현재 모든 이미지 파일 리스트\n",
    "allitems = os.listdir(IMG_DIR)\n",
    "filelist = []\n",
    "for item in allitems:\n",
    "\t# 파일과 폴더 체크 후 파일만 추출\n",
    "\tprint( IMG_DIR+item )\n",
    "\tprint( os.path.isfile(IMG_DIR+item) )\n",
    "\tif os.path.isfile(IMG_DIR+item):\n",
    "\t\tfilelist.append(IMG_DIR+item)\n",
    "\n",
    "print(f'이미지파일리스트 : {len(filelist)}개\\n{filelist}')"
   ]
  },
  {
   "cell_type": "markdown",
   "metadata": {},
   "source": [
    "[2] 이미지 로딩 <hr>"
   ]
  },
  {
   "cell_type": "code",
   "execution_count": 5,
   "metadata": {},
   "outputs": [
    {
     "data": {
      "text/plain": [
       "array([[[255, 255, 255],\n",
       "        [255, 255, 255],\n",
       "        [255, 255, 255],\n",
       "        ...,\n",
       "        [255, 255, 255],\n",
       "        [255, 255, 255],\n",
       "        [255, 255, 255]],\n",
       "\n",
       "       [[255, 255, 255],\n",
       "        [255, 255, 255],\n",
       "        [255, 255, 255],\n",
       "        ...,\n",
       "        [255, 255, 255],\n",
       "        [255, 255, 255],\n",
       "        [255, 255, 255]],\n",
       "\n",
       "       [[255, 255, 255],\n",
       "        [255, 255, 255],\n",
       "        [255, 255, 255],\n",
       "        ...,\n",
       "        [255, 255, 255],\n",
       "        [255, 255, 255],\n",
       "        [255, 255, 255]],\n",
       "\n",
       "       ...,\n",
       "\n",
       "       [[255, 255, 255],\n",
       "        [255, 255, 255],\n",
       "        [255, 255, 255],\n",
       "        ...,\n",
       "        [255, 255, 255],\n",
       "        [255, 255, 255],\n",
       "        [255, 255, 255]],\n",
       "\n",
       "       [[255, 255, 255],\n",
       "        [255, 255, 255],\n",
       "        [255, 255, 255],\n",
       "        ...,\n",
       "        [255, 255, 255],\n",
       "        [255, 255, 255],\n",
       "        [255, 255, 255]],\n",
       "\n",
       "       [[255, 255, 255],\n",
       "        [255, 255, 255],\n",
       "        [255, 255, 255],\n",
       "        ...,\n",
       "        [255, 255, 255],\n",
       "        [255, 255, 255],\n",
       "        [255, 255, 255]]], dtype=uint8)"
      ]
     },
     "execution_count": 5,
     "metadata": {},
     "output_type": "execute_result"
    }
   ],
   "source": [
    "## 로딩 : 경로+파일명\n",
    "colorIMG=cv2.imread(IMG_DIR+FILENAME, cv2.IMREAD_COLOR)\n",
    "colorIMG"
   ]
  },
  {
   "cell_type": "code",
   "execution_count": 6,
   "metadata": {},
   "outputs": [
    {
     "name": "stdout",
     "output_type": "stream",
     "text": [
      "orange.png\n",
      "형태:(393, 732, 3)\t차원:3D\n"
     ]
    }
   ],
   "source": [
    "## 정보확인\n",
    "if colorIMG is None:\n",
    "\tprint(f\"{colorIMG}: 이미지 체크\")\n",
    "else:\n",
    "\tprint(f'{FILENAME}')\n",
    "\tprint(f'형태:{colorIMG.shape}\t차원:{colorIMG.ndim}D')\n",
    "\n",
    "## 이미지 형태 : (행, 열, 채널)"
   ]
  },
  {
   "cell_type": "markdown",
   "metadata": {},
   "source": [
    "[3] 채널 분리 <hr>"
   ]
  },
  {
   "cell_type": "code",
   "execution_count": 7,
   "metadata": {},
   "outputs": [],
   "source": [
    "img_file = '../data/image/orange.png'\n",
    "img = cv2.imread(img_file)\n",
    "\n",
    "\n",
    "img_b, img_g, img_r = cv2.split(img)\n",
    "\n",
    "cv2.imshow('Blue', img_b)\n",
    "cv2.imshow('Green', img_g)\n",
    "cv2.imshow('Red', img_r)\n",
    "\n",
    "cv2.waitKey(1)\n",
    "cv2.destroyAllWindows()"
   ]
  },
  {
   "cell_type": "code",
   "execution_count": 8,
   "metadata": {},
   "outputs": [],
   "source": [
    "## 이미지 출력\n",
    "import time\n",
    "\n",
    "cv2.imshow('BLUE', img_b)\n",
    "cv2.imshow('GREEN', img_g)\n",
    "cv2.imshow('RED', img_r)\n",
    "\n",
    "cv2.waitKey(1)\n",
    "\n",
    "cv2.destroyWindow('BLUE')\n",
    "time.sleep(2)                           # msec 일시정지\n",
    "\n",
    "cv2.destroyWindow('GREEN')\n",
    "time.sleep(2)                           # msec 일시정지\n",
    "\n",
    "cv2.destroyWindow('RED')"
   ]
  },
  {
   "cell_type": "code",
   "execution_count": 9,
   "metadata": {},
   "outputs": [
    {
     "name": "stdout",
     "output_type": "stream",
     "text": [
      "blue  channel : (393, 732), 2D\n",
      "green channel : (393, 732), 2D\n",
      "red   channel : (393, 732), 2D\n"
     ]
    }
   ],
   "source": [
    "# 이미지 raw 데이터 채널 분리\n",
    "img_b, img_g, img_r = cv2.split(colorIMG)\n",
    "\n",
    "print(f'blue  channel : {img_b.shape}, {img_b.ndim}D')\n",
    "print(f'green channel : {img_g.shape}, {img_g.ndim}D')\n",
    "print(f'red   channel : {img_r.shape}, {img_r.ndim}D')"
   ]
  },
  {
   "cell_type": "markdown",
   "metadata": {},
   "source": [
    "[4] 채널 병합 <hr>"
   ]
  },
  {
   "cell_type": "code",
   "execution_count": null,
   "metadata": {},
   "outputs": [],
   "source": [
    "import cv2\n",
    "\n",
    "img_file = '../data/image/orange.png' # 이미지 경로\n",
    "img = cv2.imread(img_file) \t\t\t# 이미지 로딩\n",
    "\n",
    "img_b, img_g, img_r = cv2.split(img) # 이미지 채널 분리 B G R\n",
    "\n",
    "img_rgb = cv2.merge((img_r, img_g, img_b)) # 채널 순서 변경\n",
    "\n",
    "cv2.imshow('[RGB IMAGE]', img_rgb)\n",
    "cv2.imshow('[BGR IMAGE]', img)\n",
    "cv2.waitKey(0)\n",
    "cv2.destroyAllWindows()"
   ]
  }
 ],
 "metadata": {
  "kernelspec": {
   "display_name": "ML_PY39",
   "language": "python",
   "name": "python3"
  },
  "language_info": {
   "codemirror_mode": {
    "name": "ipython",
    "version": 3
   },
   "file_extension": ".py",
   "mimetype": "text/x-python",
   "name": "python",
   "nbconvert_exporter": "python",
   "pygments_lexer": "ipython3",
   "version": "3.9.21"
  }
 },
 "nbformat": 4,
 "nbformat_minor": 2
}
